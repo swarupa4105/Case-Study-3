{
  "cells": [
    {
      "cell_type": "markdown",
      "metadata": {
        "id": "view-in-github",
        "colab_type": "text"
      },
      "source": [
        "<a href=\"https://colab.research.google.com/github/swarupa4105/Case-Study-3/blob/main/Copy_of_Welcome_To_Colab.ipynb\" target=\"_parent\"><img src=\"https://colab.research.google.com/assets/colab-badge.svg\" alt=\"Open In Colab\"/></a>"
      ]
    },
    {
      "cell_type": "code",
      "source": [
        "import pandas as pd\n",
        "from sklearn.neighbors import KNeighborsClassifier\n",
        "\n",
        "dataset = pd.read_csv('drowsy.csv')\n",
        "print(dataset)\n",
        "\n",
        "features = pd.read_csv('drowsy.csv',usecols=[0,1,2,3])\n",
        "labels = pd.read_csv('drowsy.csv', usecols = [4])\n",
        "\n",
        "knn = KNeighborsClassifier(n_neighbors=1)\n",
        "knn.fit(features,labels)\n",
        "print(knn.predict([[0.4,7,0,18]]))\n",
        "print(knn.score(features,labels))"
      ],
      "metadata": {
        "id": "Vh-b3SKXRXzc"
      },
      "execution_count": null,
      "outputs": []
    }
  ],
  "metadata": {
    "colab": {
      "toc_visible": true,
      "provenance": [],
      "include_colab_link": true
    },
    "kernelspec": {
      "display_name": "Python 3",
      "name": "python3"
    }
  },
  "nbformat": 4,
  "nbformat_minor": 0
}